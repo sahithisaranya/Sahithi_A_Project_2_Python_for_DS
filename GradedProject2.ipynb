{
 "cells": [
  {
   "cell_type": "code",
   "execution_count": 1,
   "id": "5d3b574e",
   "metadata": {},
   "outputs": [
    {
     "name": "stdout",
     "output_type": "stream",
     "text": [
      "   Unnamed: 0  fit  user_id bust size  item_id  weight  rating     rented for  \\\n",
      "0           0  fit   420272       34d  2260466  137lbs    10.0       vacation   \n",
      "1           1  fit   273551       34b   153475  132lbs    10.0          other   \n",
      "2           2  fit   360448       NaN  1063761     NaN    10.0          party   \n",
      "3           3  fit   909926       34c   126335  135lbs     8.0  formal affair   \n",
      "4           4  fit   151944       34b   616682  145lbs    10.0        wedding   \n",
      "\n",
      "                                         review_text          body type  \\\n",
      "0  An adorable romper! Belt and zipper were a lit...          hourglass   \n",
      "1  I rented this dress for a photo shoot. The the...  straight & narrow   \n",
      "2  This hugged in all the right places! It was a ...                NaN   \n",
      "3  I rented this for my company's black tie award...               pear   \n",
      "4  I have always been petite in my upper body and...           athletic   \n",
      "\n",
      "                                      review_summary category height  size  \\\n",
      "0                               So many compliments!   romper  5' 8\"    14   \n",
      "1                            I felt so glamourous!!!     gown  5' 6\"    12   \n",
      "2  It was a great time to celebrate the (almost) ...   sheath  5' 4\"     4   \n",
      "3   Dress arrived on time and in perfect condition.     dress  5' 5\"     8   \n",
      "4                    Was in love with this dress !!!     gown  5' 9\"    12   \n",
      "\n",
      "     age         review_date  \n",
      "0   28.0      April 20, 2016  \n",
      "1   36.0       June 18, 2013  \n",
      "2  116.0   December 14, 2015  \n",
      "3   34.0   February 12, 2014  \n",
      "4   27.0  September 26, 2016  \n",
      "(192544, 16)\n",
      "<class 'pandas.core.frame.DataFrame'>\n",
      "RangeIndex: 192544 entries, 0 to 192543\n",
      "Data columns (total 16 columns):\n",
      " #   Column          Non-Null Count   Dtype  \n",
      "---  ------          --------------   -----  \n",
      " 0   Unnamed: 0      192544 non-null  int64  \n",
      " 1   fit             192544 non-null  object \n",
      " 2   user_id         192544 non-null  int64  \n",
      " 3   bust size       174133 non-null  object \n",
      " 4   item_id         192544 non-null  int64  \n",
      " 5   weight          162562 non-null  object \n",
      " 6   rating          192462 non-null  float64\n",
      " 7   rented for      192534 non-null  object \n",
      " 8   review_text     192482 non-null  object \n",
      " 9   body type       177907 non-null  object \n",
      " 10  review_summary  192199 non-null  object \n",
      " 11  category        192544 non-null  object \n",
      " 12  height          191867 non-null  object \n",
      " 13  size            192544 non-null  int64  \n",
      " 14  age             191584 non-null  float64\n",
      " 15  review_date     192544 non-null  object \n",
      "dtypes: float64(2), int64(4), object(10)\n",
      "memory usage: 23.5+ MB\n",
      "None\n"
     ]
    }
   ],
   "source": [
    "# Importing libraries\n",
    "import pandas as pd\n",
    "import numpy as np\n",
    "\n",
    "# Load the dataset\n",
    "data = pd.read_csv(\"renttherunway.csv\")\n",
    "\n",
    "# Check the first few samples, shape, and info of the data\n",
    "print(data.head())\n",
    "print(data.shape)\n",
    "print(data.info())"
   ]
  },
  {
   "cell_type": "code",
   "execution_count": 2,
   "id": "b0857dd9",
   "metadata": {},
   "outputs": [],
   "source": [
    "# Check for duplicate records\n",
    "data.drop_duplicates(inplace=True)\n",
    "\n",
    "# Drop redundant columns\n",
    "data.drop(columns=['user_id','item_id','review_text','review_summary'], inplace=True)"
   ]
  },
  {
   "cell_type": "code",
   "execution_count": 3,
   "id": "0a8a568f",
   "metadata": {},
   "outputs": [],
   "source": [
    "# Clean 'weight' column\n",
    "data['weight'] = data['weight'].str.replace('lbs', '').astype(float)"
   ]
  },
  {
   "cell_type": "code",
   "execution_count": 4,
   "id": "8989a9e8",
   "metadata": {},
   "outputs": [],
   "source": [
    "# Group 'party: cocktail' category with 'party'\n",
    "data['rented for'] = data['rented for'].replace('party: cocktail', 'party')"
   ]
  },
  {
   "cell_type": "code",
   "execution_count": 12,
   "id": "5c3ebff0",
   "metadata": {},
   "outputs": [],
   "source": [
    "# Function to convert height from feet and inches to inches\n",
    "def convert_height(height):\n",
    "    if pd.isnull(height):\n",
    "        return None\n",
    "    pattern = r\"(\\d+)' (\\d+)\"\n",
    "    match = re.search(pattern, str(height))\n",
    "    if match:\n",
    "        feet = int(match.group(1))\n",
    "        inches = int(match.group(2))\n",
    "        total_inches = feet * 12 + inches\n",
    "        return total_inches\n",
    "    else:\n",
    "        return None\n",
    "\n",
    "# Apply the conversion function to the 'height' column\n",
    "data['height'] = data['height'].apply(convert_height).astype(float)\n"
   ]
  },
  {
   "cell_type": "code",
   "execution_count": null,
   "id": "c1f099c8",
   "metadata": {},
   "outputs": [],
   "source": [
    "# Check for missing values and impute them\n",
    "missing_values = data.isnull().sum()\n",
    "print(missing_values)"
   ]
  },
  {
   "cell_type": "code",
   "execution_count": null,
   "id": "0a8ee5ac",
   "metadata": {},
   "outputs": [],
   "source": [
    "# Impute missing values\n",
    "# For numerical columns, you can use mean, median, or mode\n",
    "data['weight'].fillna(data['weight'].mean(), inplace=True)\n",
    "data['age'].fillna(data['age'].median(), inplace=True)"
   ]
  },
  {
   "cell_type": "code",
   "execution_count": null,
   "id": "515a1df4",
   "metadata": {},
   "outputs": [],
   "source": [
    "# For categorical columns, you can use the mode\n",
    "data['category'].fillna(data['category'].mode()[0], inplace=True)\n",
    "\n",
    "# Check the statistical summary\n",
    "data.describe()"
   ]
  },
  {
   "cell_type": "code",
   "execution_count": null,
   "id": "45296ac0",
   "metadata": {},
   "outputs": [],
   "source": [
    "# Treat outliers in the 'age' column using the IQR method\n",
    "Q1 = data['age'].quantile(0.25)\n",
    "Q3 = data['age'].quantile(0.75)\n",
    "IQR = Q3 - Q1\n",
    "lower_bound = Q1 - 1.5 * IQR\n",
    "upper_bound = Q3 + 1.5 * IQR\n",
    "data = data[(data['age'] >= lower_bound) & (data['age'] <= upper_bound)]"
   ]
  },
  {
   "cell_type": "code",
   "execution_count": null,
   "id": "6ac29c3a",
   "metadata": {},
   "outputs": [],
   "source": [
    "# Check the distribution of categories in the 'rented for' column\n",
    "import matplotlib.pyplot as plt\n",
    "import seaborn as sns\n",
    "\n",
    "plt.figure(figsize=(10, 6))\n",
    "sns.countplot(data=data, x='rented for')\n",
    "plt.title('Distribution of Categories in \"rented for\"')\n",
    "plt.xlabel('Category')\n",
    "plt.ylabel('Count')\n",
    "plt.show()"
   ]
  },
  {
   "cell_type": "code",
   "execution_count": null,
   "id": "cb0ec27a",
   "metadata": {},
   "outputs": [],
   "source": [
    "# Convert categorical columns to string type\n",
    "categorical_cols = ['rented for', 'body type', 'category']\n",
    "data[categorical_cols] = data[categorical_cols].astype(str)\n"
   ]
  },
  {
   "cell_type": "code",
   "execution_count": 10,
   "id": "0c99829c",
   "metadata": {
    "scrolled": false
   },
   "outputs": [],
   "source": [
    "# Encode categorical variables\n",
    "data_encoded = pd.get_dummies(data, columns=categorical_cols)"
   ]
  },
  {
   "cell_type": "code",
   "execution_count": null,
   "id": "dae6f58d",
   "metadata": {
    "scrolled": true
   },
   "outputs": [],
   "source": []
  },
  {
   "cell_type": "code",
   "execution_count": null,
   "id": "d71797e0",
   "metadata": {},
   "outputs": [],
   "source": []
  },
  {
   "cell_type": "code",
   "execution_count": null,
   "id": "b4313a9e",
   "metadata": {},
   "outputs": [],
   "source": []
  }
 ],
 "metadata": {
  "kernelspec": {
   "display_name": "Python 3 (ipykernel)",
   "language": "python",
   "name": "python3"
  },
  "language_info": {
   "codemirror_mode": {
    "name": "ipython",
    "version": 3
   },
   "file_extension": ".py",
   "mimetype": "text/x-python",
   "name": "python",
   "nbconvert_exporter": "python",
   "pygments_lexer": "ipython3",
   "version": "3.10.9"
  }
 },
 "nbformat": 4,
 "nbformat_minor": 5
}
